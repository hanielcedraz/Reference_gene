{
  "nbformat": 4,
  "nbformat_minor": 0,
  "metadata": {
    "colab": {
      "name": "Untitled2.ipynb",
      "provenance": [],
      "collapsed_sections": [],
      "toc_visible": true,
      "include_colab_link": true
    },
    "kernelspec": {
      "name": "python3",
      "display_name": "Python 3"
    }
  },
  "cells": [
    {
      "cell_type": "markdown",
      "metadata": {
        "id": "view-in-github",
        "colab_type": "text"
      },
      "source": [
        "<a href=\"https://colab.research.google.com/github/hanielcedraz/endoGenes/blob/master/run_endoGenes_notebook.ipynb\" target=\"_parent\"><img src=\"https://colab.research.google.com/assets/colab-badge.svg\" alt=\"Open In Colab\"/></a>"
      ]
    },
    {
      "cell_type": "markdown",
      "metadata": {
        "id": "awy7kl1BFx5e",
        "colab_type": "text"
      },
      "source": [
        "# endoGenes - Reference Genes Analysis\n",
        "This pipeline performs an automated analysis of the three most used algorithms to verify the stability of reference genes"
      ]
    },
    {
      "cell_type": "markdown",
      "metadata": {
        "id": "ESFiHUA0F52K",
        "colab_type": "text"
      },
      "source": [
        "# STEP.1 - Mouting your google drive:\n",
        "You need to run the next code, then it will generate a link. Click on the link and choose your google account. click on allow. It will generate a code. Copy the code and paste it where you see \"Enter your authorization code:\" then press enter.\n"
      ]
    },
    {
      "cell_type": "code",
      "metadata": {
        "id": "3N1oYUUl_RQn",
        "colab_type": "code",
        "colab": {}
      },
      "source": [
        "from google.colab import drive\n",
        "drive.mount('/content/drive/')"
      ],
      "execution_count": 0,
      "outputs": []
    },
    {
      "cell_type": "markdown",
      "metadata": {
        "id": "WQJ8oR7U_q9n",
        "colab_type": "text"
      },
      "source": [
        "# STEP.2 - Cloning the git repository:\n",
        "Cloning the whole repository for your google drive\n"
      ]
    },
    {
      "cell_type": "code",
      "metadata": {
        "id": "KgxEZJ2N_ydL",
        "colab_type": "code",
        "colab": {}
      },
      "source": [
        "%%bash\n",
        "ln -s /content/drive/My\\ Drive /content/MyDrive\n",
        "cd /content/MyDrive\n",
        "\n",
        "if ! [ -d endoGenes ]\n",
        "  then\n",
        "    git clone https://github.com/hanielcedraz/endoGenes.git\n",
        "    cd endoGenes\n",
        "  else\n",
        "    cd endoGenes\n",
        "fi\n",
        "ls -hl\n",
        "chmod +x endoGenes.R\n",
        "\n",
        "\n",
        "\n"
      ],
      "execution_count": 0,
      "outputs": []
    },
    {
      "cell_type": "markdown",
      "metadata": {
        "id": "9LOUbVyiawQc",
        "colab_type": "text"
      },
      "source": [
        "## First things first\n",
        "Now that you download the repository into the your google drive, you need to upload your files into the folder \"endoGenes\" in your google drive.\n",
        "<br>\n",
        "<br>\n",
        "\n",
        "Now tah you have your own data lets take a look at your endogenous and efficiency files to see if everything is alright."
      ]
    },
    {
      "cell_type": "markdown",
      "metadata": {
        "id": "bNIqTI2Dcx2x",
        "colab_type": "text"
      },
      "source": [
        "### Endogenous file\n"
      ]
    },
    {
      "cell_type": "code",
      "metadata": {
        "id": "JeODhlerbHa_",
        "colab_type": "code",
        "colab": {}
      },
      "source": [
        "import pandas as pd\n",
        "endogenous = \"/content/MyDrive/endoGenes/endogenous_ct.txt\" # this is the default file. change it if you have a different name for your dataset.\n",
        "\n",
        "data_set = pd.read_csv(endogenous, sep=\"\\t\")\n",
        "data_set"
      ],
      "execution_count": 0,
      "outputs": []
    },
    {
      "cell_type": "markdown",
      "metadata": {
        "id": "d8EeZ0Jicqbn",
        "colab_type": "text"
      },
      "source": [
        "### Efficiency list"
      ]
    },
    {
      "cell_type": "code",
      "metadata": {
        "id": "TxlH9J9LclUd",
        "colab_type": "code",
        "colab": {}
      },
      "source": [
        "efficiency = \"/content/MyDrive/endoGenes/efficiencies_list.txt\" # this is the default file. change it if you have a different name for your dataset.\n",
        "eff = pd.read_csv(efficiency, sep=\"\\t\")\n",
        "eff"
      ],
      "execution_count": 0,
      "outputs": []
    },
    {
      "cell_type": "markdown",
      "metadata": {
        "id": "yUFtxrahb_Te",
        "colab_type": "text"
      },
      "source": [
        "## Is it everything alright?\n",
        "if yes, you are ready to perform the analysis"
      ]
    },
    {
      "cell_type": "markdown",
      "metadata": {
        "id": "x1bOjzVZGvvP",
        "colab_type": "text"
      },
      "source": [
        "\n",
        "\n",
        "# Analysing your dataset\n",
        "Now you have your own dataset uploaded into the /content/MyDrive/endoGenes. What you have to do is to run the endoGenes pipeline unsing the options for your dataset. e.g. endogenousfile.txt and efficiencyfile.txt.\n",
        "\n",
        "If the name of your endogenous file is exp_endogenous.txt and the name of your efficiency file is exp_efficiency.txt, then use:\n",
        "\n",
        "    $ ./endoGenes.R -f exp_endogenous.txt -e exp_efficiency.txt\n",
        "\n",
        "It will generate a folder named 01-results. <br>\n",
        "If you want a differente name you need to use the option -o.\n",
        "\n",
        "    $ ./endoGenes.R -f exp_endogenous.txt -e exp_efficiency.txt -o name_of_folder"
      ]
    },
    {
      "cell_type": "markdown",
      "metadata": {
        "id": "oTkG9WgcQTH7",
        "colab_type": "text"
      },
      "source": [
        "Change the code according your dataset and run the next block.\n",
        " \n",
        "If you chose a different name for you results folder, please change it as well in the next block."
      ]
    },
    {
      "cell_type": "code",
      "metadata": {
        "id": "es9bg5ebHG6U",
        "colab_type": "code",
        "colab": {}
      },
      "source": [
        "%%bash\n",
        "folder=01-results # if you want a different name, change here the name of your results folder\n",
        "cd /content/MyDrive/endoGenes\n",
        "\n",
        "./endoGenes.R -o $folder\n",
        "\n",
        "\n",
        "cd $folder\n"
      ],
      "execution_count": 0,
      "outputs": []
    },
    {
      "cell_type": "markdown",
      "metadata": {
        "id": "7NYpbZf0X7lE",
        "colab_type": "text"
      },
      "source": [
        "## Boxplot by gene"
      ]
    },
    {
      "cell_type": "code",
      "metadata": {
        "id": "tGLkvOMrTQNY",
        "colab_type": "code",
        "colab": {}
      },
      "source": [
        "folder = \"01-results\" # if you chose a different name for your results folder, change here it here\n",
        "\n",
        "from IPython.display import Image\n",
        "from IPython.core.display import HTML\n",
        "Image(\"/content/MyDrive/endoGenes/\"+folder+\"/Rplot_boxplot_genes.png\")"
      ],
      "execution_count": 0,
      "outputs": []
    },
    {
      "cell_type": "markdown",
      "metadata": {
        "id": "dWvhx6dSYEHi",
        "colab_type": "text"
      },
      "source": [
        "## Boxplot by groups"
      ]
    },
    {
      "cell_type": "code",
      "metadata": {
        "id": "48Zna8_RUp9I",
        "colab_type": "code",
        "colab": {}
      },
      "source": [
        "Image(\"/content/MyDrive/endoGenes/\"+folder+\"/Rplot_boxplot_groups.png\")"
      ],
      "execution_count": 0,
      "outputs": []
    },
    {
      "cell_type": "markdown",
      "metadata": {
        "id": "SytUzKfRYHA1",
        "colab_type": "text"
      },
      "source": [
        "## Stability genes by geNorm"
      ]
    },
    {
      "cell_type": "markdown",
      "metadata": {
        "id": "GZihDF3qdkuA",
        "colab_type": "text"
      },
      "source": [
        "### Stability Ranking"
      ]
    },
    {
      "cell_type": "code",
      "metadata": {
        "id": "G8DQSlfDdHVT",
        "colab_type": "code",
        "colab": {}
      },
      "source": [
        "genorm = \"/content/MyDrive/endoGenes/01-results/general_ranking_genorm.csv\" \n",
        "\n",
        "genorm_rank = pd.read_csv(genorm)\n",
        "genorm_rank"
      ],
      "execution_count": 0,
      "outputs": []
    },
    {
      "cell_type": "markdown",
      "metadata": {
        "id": "NeeCrSXKdq0T",
        "colab_type": "text"
      },
      "source": [
        "### Stability plot"
      ]
    },
    {
      "cell_type": "code",
      "metadata": {
        "id": "VroRcDENU0_M",
        "colab_type": "code",
        "colab": {}
      },
      "source": [
        "Image(\"/content/MyDrive/endoGenes/\"+folder+\"/Rplot_gene_stability_by_genorm.png\")"
      ],
      "execution_count": 0,
      "outputs": []
    },
    {
      "cell_type": "markdown",
      "metadata": {
        "id": "hLP_Hsl0YapW",
        "colab_type": "text"
      },
      "source": [
        "### Gene variation plot"
      ]
    },
    {
      "cell_type": "code",
      "metadata": {
        "id": "bJQY1go7VJsP",
        "colab_type": "code",
        "colab": {}
      },
      "source": [
        "Image(\"/content/MyDrive/endoGenes/\"+folder+\"/Rplot_gene_variation_by_genorm.png\")"
      ],
      "execution_count": 0,
      "outputs": []
    },
    {
      "cell_type": "markdown",
      "metadata": {
        "id": "qa8lmM4sYORn",
        "colab_type": "text"
      },
      "source": [
        "## Stability genes by NormFinder"
      ]
    },
    {
      "cell_type": "markdown",
      "metadata": {
        "id": "rPQ0MuifdzKW",
        "colab_type": "text"
      },
      "source": [
        "### Stability Ranking"
      ]
    },
    {
      "cell_type": "code",
      "metadata": {
        "id": "9Zg6LGW7d7xg",
        "colab_type": "code",
        "colab": {}
      },
      "source": [
        "normfinder = \"/content/MyDrive/endoGenes/01-results/ranking_Ordered_normfinder.csv\"\n",
        "norm_rank = pd.read_csv(normfinder)\n",
        "norm_rank"
      ],
      "execution_count": 0,
      "outputs": []
    },
    {
      "cell_type": "markdown",
      "metadata": {
        "id": "zam2EdGod6kn",
        "colab_type": "text"
      },
      "source": [
        "### Stability plot"
      ]
    },
    {
      "cell_type": "code",
      "metadata": {
        "id": "ZISAlnupVEK7",
        "colab_type": "code",
        "colab": {}
      },
      "source": [
        "Image(\"/content/MyDrive/endoGenes/\"+folder+\"/Rplot_gene_stability_by_NormFinder.png\")"
      ],
      "execution_count": 0,
      "outputs": []
    },
    {
      "cell_type": "markdown",
      "metadata": {
        "id": "c67RaUPGYlMg",
        "colab_type": "text"
      },
      "source": [
        "## Stability genes by Bestkeeper"
      ]
    },
    {
      "cell_type": "markdown",
      "metadata": {
        "id": "cxHtUj56efYe",
        "colab_type": "text"
      },
      "source": [
        "### Descriptive statistics"
      ]
    },
    {
      "cell_type": "code",
      "metadata": {
        "id": "Z4Kla43EegNj",
        "colab_type": "code",
        "colab": {}
      },
      "source": [
        "descrip = \"/content/MyDrive/endoGenes/01-results/Bestkeeper_results_CP.statistics.csv\"\n",
        "summary_stat = pd.read_csv(descrip)\n",
        "summary_stat"
      ],
      "execution_count": 0,
      "outputs": []
    },
    {
      "cell_type": "markdown",
      "metadata": {
        "id": "dEV9wJ9NeOos",
        "colab_type": "text"
      },
      "source": [
        "### Stability Ranking"
      ]
    },
    {
      "cell_type": "code",
      "metadata": {
        "id": "v1CMBp3teLeZ",
        "colab_type": "code",
        "colab": {}
      },
      "source": [
        "bestkeeper = \"/content/MyDrive/endoGenes/01-results/Bestkeeper_best_genes_ordered.csv\"\n",
        "best_genes = pd.read_csv(bestkeeper)\n",
        "best_genes"
      ],
      "execution_count": 0,
      "outputs": []
    },
    {
      "cell_type": "markdown",
      "metadata": {
        "id": "DoFbyUHReMaJ",
        "colab_type": "text"
      },
      "source": [
        "### Stability plot"
      ]
    },
    {
      "cell_type": "code",
      "metadata": {
        "id": "2TmQEX-6VXIM",
        "colab_type": "code",
        "colab": {}
      },
      "source": [
        "Image(\"/content/MyDrive/endoGenes/\"+folder+\"/Rplot_gene_stability_by_BestKeeper.png\")"
      ],
      "execution_count": 0,
      "outputs": []
    },
    {
      "cell_type": "markdown",
      "metadata": {
        "id": "_f75LVzxaKj-",
        "colab_type": "text"
      },
      "source": [
        "## Final Ranking"
      ]
    },
    {
      "cell_type": "code",
      "metadata": {
        "id": "ZWGlzn0qZM5o",
        "colab_type": "code",
        "colab": {}
      },
      "source": [
        "final_ranking = pd.read_csv(\"/content/MyDrive/endoGenes/01-results/Final_ranking.csv\")\n",
        "final_ranking"
      ],
      "execution_count": 0,
      "outputs": []
    }
  ]
}