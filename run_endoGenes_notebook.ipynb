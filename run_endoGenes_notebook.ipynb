{
  "nbformat": 4,
  "nbformat_minor": 0,
  "metadata": {
    "colab": {
      "name": "Untitled2.ipynb",
      "provenance": [],
      "collapsed_sections": [],
      "include_colab_link": true
    },
    "kernelspec": {
      "name": "python3",
      "display_name": "Python 3"
    }
  },
  "cells": [
    {
      "cell_type": "markdown",
      "metadata": {
        "id": "view-in-github",
        "colab_type": "text"
      },
      "source": [
        "<a href=\"https://colab.research.google.com/github/hanielcedraz/endoGenes/blob/master/run_endoGenes_notebook.ipynb\" target=\"_parent\"><img src=\"https://colab.research.google.com/assets/colab-badge.svg\" alt=\"Open In Colab\"/></a>"
      ]
    },
    {
      "cell_type": "markdown",
      "metadata": {
        "id": "V0OMwBdc_cbE",
        "colab_type": "text"
      },
      "source": [
        "# Mounting Gdrive"
      ]
    },
    {
      "cell_type": "code",
      "metadata": {
        "id": "3N1oYUUl_RQn",
        "colab_type": "code",
        "colab": {}
      },
      "source": [
        "from google.colab import drive\n",
        "drive.mount('/content/drive/')"
      ],
      "execution_count": 0,
      "outputs": []
    },
    {
      "cell_type": "markdown",
      "metadata": {
        "id": "WQJ8oR7U_q9n",
        "colab_type": "text"
      },
      "source": [
        "# Downloading and configuring git folder"
      ]
    },
    {
      "cell_type": "code",
      "metadata": {
        "id": "KgxEZJ2N_ydL",
        "colab_type": "code",
        "colab": {}
      },
      "source": [
        "%%bash\n",
        "ln -s /content/drive/My\\ Drive /content/MyDrive\n",
        "cd /content/MyDrive\n",
        "\n",
        "if ! [ -d endoGenes ]\n",
        "  then\n",
        "    git clone https://github.com/hanielcedraz/endoGenes.git\n",
        "    cd endoGenes\n",
        "  else\n",
        "    cd endoGenes\n",
        "fi\n",
        "ls -hl\n",
        "chmod +x endoGenes.R\n",
        "\n",
        "\n",
        "./endoGenes.R\n",
        "\n",
        "cd 01-results\n",
        "ls -lh\n"
      ],
      "execution_count": 0,
      "outputs": []
    }
  ]
}